{
  "nbformat": 4,
  "nbformat_minor": 0,
  "metadata": {
    "colab": {
      "provenance": [],
      "toc_visible": true,
      "authorship_tag": "ABX9TyPhIsYn8wHGz2aVq/ZQyX2R",
      "include_colab_link": true
    },
    "kernelspec": {
      "name": "python3",
      "display_name": "Python 3"
    },
    "language_info": {
      "name": "python"
    }
  },
  "cells": [
    {
      "cell_type": "markdown",
      "metadata": {
        "id": "view-in-github",
        "colab_type": "text"
      },
      "source": [
        "<a href=\"https://colab.research.google.com/github/RishabhGithub7348/YouTube-Video-Summarizer-and-Quiz-Generator/blob/main/YouTube_Video_Summarizer_and_Quiz_Generator.ipynb\" target=\"_parent\"><img src=\"https://colab.research.google.com/assets/colab-badge.svg\" alt=\"Open In Colab\"/></a>"
      ]
    },
    {
      "cell_type": "code",
      "execution_count": 4,
      "metadata": {
        "colab": {
          "base_uri": "https://localhost:8080/"
        },
        "id": "G7RkXHhrLnHC",
        "outputId": "9b9ef791-3791-40a8-d1fc-190bffd2deb7"
      },
      "outputs": [
        {
          "output_type": "stream",
          "name": "stdout",
          "text": [
            "Welcome to Ubuntu 22.04.4 LTS (GNU/Linux 6.5.0-1020-aws x86_64)\n",
            "\n",
            " * Documentation:  https://help.ubuntu.com\n",
            " * Management:     https://landscape.canonical.com\n",
            " * Support:        https://ubuntu.com/pro\n",
            "\n",
            " System information as of Sat Jul  6 04:14:09 UTC 2024\n",
            "\n",
            "  System load:  0.0                Processes:             149\n",
            "  Usage of /:   49.1% of 96.73GB   Users logged in:       0\n",
            "  Memory usage: 2%                 IPv4 address for ens5: 172.31.32.249\n",
            "  Swap usage:   0%\n",
            "\n",
            " * Ubuntu Pro delivers the most comprehensive open source security and\n",
            "   compliance features.\n",
            "\n",
            "   https://ubuntu.com/aws/pro\n",
            "\n",
            "Expanded Security Maintenance for Applications is not enabled.\n",
            "\n",
            "23 updates can be applied immediately.\n",
            "11 of these updates are standard security updates.\n",
            "To see these additional updates run: apt list --upgradable\n",
            "\n",
            "31 additional security updates can be applied with ESM Apps.\n",
            "Learn more about enabling ESM Apps service at https://ubuntu.com/esm\n",
            "\n",
            "\n",
            "=============================================================================\n",
            "AMI Name: Deep Learning Base OSS Nvidia Driver GPU AMI (Ubuntu 22.04) \n",
            "Supported EC2 instances: G4dn, G5, G6, Gr6, P4d, P4de, P5\n",
            "NVIDIA driver version: 535.183.01\n",
            "CUDA versions available: cuda-11.8 cuda-12.1 cuda-12.2 cuda-12.3\n",
            "Default CUDA version is 12.1\n",
            "\n",
            "Release notes: https://docs.aws.amazon.com/dlami/latest/devguide/appendix-ami-release-notes.html\n",
            "AWS Deep Learning AMI Homepage: https://aws.amazon.com/machine-learning/amis/\n",
            "Developer Guide and Release Notes: https://docs.aws.amazon.com/dlami/latest/devguide/what-is-dlami.html\n",
            "Support: https://forums.aws.amazon.com/forum.jspa?forumID=263\n",
            "For a fully managed experience, check out Amazon SageMaker at https://aws.amazon.com/sagemaker\n",
            "=============================================================================\n",
            "Last login: Sat Jul  6 04:12:14 2024 from 35.237.235.161\r\n",
            "\u001b[?2004h\u001b]0;ubuntu@ip-172-31-32-249: ~\u0007\u001b[01;32mubuntu@ip-172-31-32-249\u001b[00m:\u001b[01;34m~\u001b[00m$ "
          ]
        }
      ],
      "source": [
        "!chmod 400 ./monkey-science-gpu.pem\n",
        "!ssh -o \"StrictHostKeyChecking=no\" -i \"monkey-science-gpu.pem\" ubuntu@ec2-13-235-135-35.ap-south-1.compute.amazonaws.com"
      ]
    },
    {
      "cell_type": "code",
      "source": [
        "!pip install youtube_transcript_api transformers torch nltk\n"
      ],
      "metadata": {
        "colab": {
          "base_uri": "https://localhost:8080/"
        },
        "id": "JpBYSUjiWBYH",
        "outputId": "d5e095df-7162-4ebd-df43-3b1c6c3c034c"
      },
      "execution_count": 6,
      "outputs": [
        {
          "output_type": "stream",
          "name": "stdout",
          "text": [
            "Collecting youtube_transcript_api\n",
            "  Downloading youtube_transcript_api-0.6.2-py3-none-any.whl (24 kB)\n",
            "Requirement already satisfied: transformers in /usr/local/lib/python3.10/dist-packages (4.41.2)\n",
            "Requirement already satisfied: torch in /usr/local/lib/python3.10/dist-packages (2.3.0+cu121)\n",
            "Requirement already satisfied: nltk in /usr/local/lib/python3.10/dist-packages (3.8.1)\n",
            "Requirement already satisfied: requests in /usr/local/lib/python3.10/dist-packages (from youtube_transcript_api) (2.31.0)\n",
            "Requirement already satisfied: filelock in /usr/local/lib/python3.10/dist-packages (from transformers) (3.15.4)\n",
            "Requirement already satisfied: huggingface-hub<1.0,>=0.23.0 in /usr/local/lib/python3.10/dist-packages (from transformers) (0.23.4)\n",
            "Requirement already satisfied: numpy>=1.17 in /usr/local/lib/python3.10/dist-packages (from transformers) (1.25.2)\n",
            "Requirement already satisfied: packaging>=20.0 in /usr/local/lib/python3.10/dist-packages (from transformers) (24.1)\n",
            "Requirement already satisfied: pyyaml>=5.1 in /usr/local/lib/python3.10/dist-packages (from transformers) (6.0.1)\n",
            "Requirement already satisfied: regex!=2019.12.17 in /usr/local/lib/python3.10/dist-packages (from transformers) (2024.5.15)\n",
            "Requirement already satisfied: tokenizers<0.20,>=0.19 in /usr/local/lib/python3.10/dist-packages (from transformers) (0.19.1)\n",
            "Requirement already satisfied: safetensors>=0.4.1 in /usr/local/lib/python3.10/dist-packages (from transformers) (0.4.3)\n",
            "Requirement already satisfied: tqdm>=4.27 in /usr/local/lib/python3.10/dist-packages (from transformers) (4.66.4)\n",
            "Requirement already satisfied: typing-extensions>=4.8.0 in /usr/local/lib/python3.10/dist-packages (from torch) (4.12.2)\n",
            "Requirement already satisfied: sympy in /usr/local/lib/python3.10/dist-packages (from torch) (1.12.1)\n",
            "Requirement already satisfied: networkx in /usr/local/lib/python3.10/dist-packages (from torch) (3.3)\n",
            "Requirement already satisfied: jinja2 in /usr/local/lib/python3.10/dist-packages (from torch) (3.1.4)\n",
            "Requirement already satisfied: fsspec in /usr/local/lib/python3.10/dist-packages (from torch) (2023.6.0)\n",
            "Collecting nvidia-cuda-nvrtc-cu12==12.1.105 (from torch)\n",
            "  Using cached nvidia_cuda_nvrtc_cu12-12.1.105-py3-none-manylinux1_x86_64.whl (23.7 MB)\n",
            "Collecting nvidia-cuda-runtime-cu12==12.1.105 (from torch)\n",
            "  Using cached nvidia_cuda_runtime_cu12-12.1.105-py3-none-manylinux1_x86_64.whl (823 kB)\n",
            "Collecting nvidia-cuda-cupti-cu12==12.1.105 (from torch)\n",
            "  Using cached nvidia_cuda_cupti_cu12-12.1.105-py3-none-manylinux1_x86_64.whl (14.1 MB)\n",
            "Collecting nvidia-cudnn-cu12==8.9.2.26 (from torch)\n",
            "  Using cached nvidia_cudnn_cu12-8.9.2.26-py3-none-manylinux1_x86_64.whl (731.7 MB)\n",
            "Collecting nvidia-cublas-cu12==12.1.3.1 (from torch)\n",
            "  Using cached nvidia_cublas_cu12-12.1.3.1-py3-none-manylinux1_x86_64.whl (410.6 MB)\n",
            "Collecting nvidia-cufft-cu12==11.0.2.54 (from torch)\n",
            "  Using cached nvidia_cufft_cu12-11.0.2.54-py3-none-manylinux1_x86_64.whl (121.6 MB)\n",
            "Collecting nvidia-curand-cu12==10.3.2.106 (from torch)\n",
            "  Using cached nvidia_curand_cu12-10.3.2.106-py3-none-manylinux1_x86_64.whl (56.5 MB)\n",
            "Collecting nvidia-cusolver-cu12==11.4.5.107 (from torch)\n",
            "  Using cached nvidia_cusolver_cu12-11.4.5.107-py3-none-manylinux1_x86_64.whl (124.2 MB)\n",
            "Collecting nvidia-cusparse-cu12==12.1.0.106 (from torch)\n",
            "  Using cached nvidia_cusparse_cu12-12.1.0.106-py3-none-manylinux1_x86_64.whl (196.0 MB)\n",
            "Collecting nvidia-nccl-cu12==2.20.5 (from torch)\n",
            "  Using cached nvidia_nccl_cu12-2.20.5-py3-none-manylinux2014_x86_64.whl (176.2 MB)\n",
            "Collecting nvidia-nvtx-cu12==12.1.105 (from torch)\n",
            "  Using cached nvidia_nvtx_cu12-12.1.105-py3-none-manylinux1_x86_64.whl (99 kB)\n",
            "Requirement already satisfied: triton==2.3.0 in /usr/local/lib/python3.10/dist-packages (from torch) (2.3.0)\n",
            "Collecting nvidia-nvjitlink-cu12 (from nvidia-cusolver-cu12==11.4.5.107->torch)\n",
            "  Downloading nvidia_nvjitlink_cu12-12.5.82-py3-none-manylinux2014_x86_64.whl (21.3 MB)\n",
            "\u001b[2K     \u001b[90m━━━━━━━━━━━━━━━━━━━━━━━━━━━━━━━━━━━━━━━━\u001b[0m \u001b[32m21.3/21.3 MB\u001b[0m \u001b[31m56.5 MB/s\u001b[0m eta \u001b[36m0:00:00\u001b[0m\n",
            "\u001b[?25hRequirement already satisfied: click in /usr/local/lib/python3.10/dist-packages (from nltk) (8.1.7)\n",
            "Requirement already satisfied: joblib in /usr/local/lib/python3.10/dist-packages (from nltk) (1.4.2)\n",
            "Requirement already satisfied: MarkupSafe>=2.0 in /usr/local/lib/python3.10/dist-packages (from jinja2->torch) (2.1.5)\n",
            "Requirement already satisfied: charset-normalizer<4,>=2 in /usr/local/lib/python3.10/dist-packages (from requests->youtube_transcript_api) (3.3.2)\n",
            "Requirement already satisfied: idna<4,>=2.5 in /usr/local/lib/python3.10/dist-packages (from requests->youtube_transcript_api) (3.7)\n",
            "Requirement already satisfied: urllib3<3,>=1.21.1 in /usr/local/lib/python3.10/dist-packages (from requests->youtube_transcript_api) (2.0.7)\n",
            "Requirement already satisfied: certifi>=2017.4.17 in /usr/local/lib/python3.10/dist-packages (from requests->youtube_transcript_api) (2024.6.2)\n",
            "Requirement already satisfied: mpmath<1.4.0,>=1.1.0 in /usr/local/lib/python3.10/dist-packages (from sympy->torch) (1.3.0)\n",
            "Installing collected packages: nvidia-nvtx-cu12, nvidia-nvjitlink-cu12, nvidia-nccl-cu12, nvidia-curand-cu12, nvidia-cufft-cu12, nvidia-cuda-runtime-cu12, nvidia-cuda-nvrtc-cu12, nvidia-cuda-cupti-cu12, nvidia-cublas-cu12, youtube_transcript_api, nvidia-cusparse-cu12, nvidia-cudnn-cu12, nvidia-cusolver-cu12\n",
            "Successfully installed nvidia-cublas-cu12-12.1.3.1 nvidia-cuda-cupti-cu12-12.1.105 nvidia-cuda-nvrtc-cu12-12.1.105 nvidia-cuda-runtime-cu12-12.1.105 nvidia-cudnn-cu12-8.9.2.26 nvidia-cufft-cu12-11.0.2.54 nvidia-curand-cu12-10.3.2.106 nvidia-cusolver-cu12-11.4.5.107 nvidia-cusparse-cu12-12.1.0.106 nvidia-nccl-cu12-2.20.5 nvidia-nvjitlink-cu12-12.5.82 nvidia-nvtx-cu12-12.1.105 youtube_transcript_api-0.6.2\n"
          ]
        }
      ]
    },
    {
      "cell_type": "markdown",
      "source": [
        "# YouTube Video Summarizer and Quiz Generator\n",
        "\n",
        "This project creates a summary and a quiz based on the transcript of a YouTube video.\n",
        "\n",
        "## Setup\n",
        "\n",
        "First, let's install the required libraries:\n"
      ],
      "metadata": {
        "id": "jbrxDaqxabLD"
      }
    },
    {
      "cell_type": "code",
      "source": [
        "!pip install youtube_transcript_api transformers torch nltk"
      ],
      "metadata": {
        "colab": {
          "base_uri": "https://localhost:8080/"
        },
        "id": "vSRt9Xp_apux",
        "outputId": "1608b780-4093-496e-ed30-9535fa7d9b94"
      },
      "execution_count": 9,
      "outputs": [
        {
          "output_type": "stream",
          "name": "stdout",
          "text": [
            "Requirement already satisfied: youtube_transcript_api in /usr/local/lib/python3.10/dist-packages (0.6.2)\n",
            "Requirement already satisfied: transformers in /usr/local/lib/python3.10/dist-packages (4.41.2)\n",
            "Requirement already satisfied: torch in /usr/local/lib/python3.10/dist-packages (2.3.0+cu121)\n",
            "Requirement already satisfied: nltk in /usr/local/lib/python3.10/dist-packages (3.8.1)\n",
            "Requirement already satisfied: requests in /usr/local/lib/python3.10/dist-packages (from youtube_transcript_api) (2.31.0)\n",
            "Requirement already satisfied: filelock in /usr/local/lib/python3.10/dist-packages (from transformers) (3.15.4)\n",
            "Requirement already satisfied: huggingface-hub<1.0,>=0.23.0 in /usr/local/lib/python3.10/dist-packages (from transformers) (0.23.4)\n",
            "Requirement already satisfied: numpy>=1.17 in /usr/local/lib/python3.10/dist-packages (from transformers) (1.25.2)\n",
            "Requirement already satisfied: packaging>=20.0 in /usr/local/lib/python3.10/dist-packages (from transformers) (24.1)\n",
            "Requirement already satisfied: pyyaml>=5.1 in /usr/local/lib/python3.10/dist-packages (from transformers) (6.0.1)\n",
            "Requirement already satisfied: regex!=2019.12.17 in /usr/local/lib/python3.10/dist-packages (from transformers) (2024.5.15)\n",
            "Requirement already satisfied: tokenizers<0.20,>=0.19 in /usr/local/lib/python3.10/dist-packages (from transformers) (0.19.1)\n",
            "Requirement already satisfied: safetensors>=0.4.1 in /usr/local/lib/python3.10/dist-packages (from transformers) (0.4.3)\n",
            "Requirement already satisfied: tqdm>=4.27 in /usr/local/lib/python3.10/dist-packages (from transformers) (4.66.4)\n",
            "Requirement already satisfied: typing-extensions>=4.8.0 in /usr/local/lib/python3.10/dist-packages (from torch) (4.12.2)\n",
            "Requirement already satisfied: sympy in /usr/local/lib/python3.10/dist-packages (from torch) (1.12.1)\n",
            "Requirement already satisfied: networkx in /usr/local/lib/python3.10/dist-packages (from torch) (3.3)\n",
            "Requirement already satisfied: jinja2 in /usr/local/lib/python3.10/dist-packages (from torch) (3.1.4)\n",
            "Requirement already satisfied: fsspec in /usr/local/lib/python3.10/dist-packages (from torch) (2023.6.0)\n",
            "Requirement already satisfied: nvidia-cuda-nvrtc-cu12==12.1.105 in /usr/local/lib/python3.10/dist-packages (from torch) (12.1.105)\n",
            "Requirement already satisfied: nvidia-cuda-runtime-cu12==12.1.105 in /usr/local/lib/python3.10/dist-packages (from torch) (12.1.105)\n",
            "Requirement already satisfied: nvidia-cuda-cupti-cu12==12.1.105 in /usr/local/lib/python3.10/dist-packages (from torch) (12.1.105)\n",
            "Requirement already satisfied: nvidia-cudnn-cu12==8.9.2.26 in /usr/local/lib/python3.10/dist-packages (from torch) (8.9.2.26)\n",
            "Requirement already satisfied: nvidia-cublas-cu12==12.1.3.1 in /usr/local/lib/python3.10/dist-packages (from torch) (12.1.3.1)\n",
            "Requirement already satisfied: nvidia-cufft-cu12==11.0.2.54 in /usr/local/lib/python3.10/dist-packages (from torch) (11.0.2.54)\n",
            "Requirement already satisfied: nvidia-curand-cu12==10.3.2.106 in /usr/local/lib/python3.10/dist-packages (from torch) (10.3.2.106)\n",
            "Requirement already satisfied: nvidia-cusolver-cu12==11.4.5.107 in /usr/local/lib/python3.10/dist-packages (from torch) (11.4.5.107)\n",
            "Requirement already satisfied: nvidia-cusparse-cu12==12.1.0.106 in /usr/local/lib/python3.10/dist-packages (from torch) (12.1.0.106)\n",
            "Requirement already satisfied: nvidia-nccl-cu12==2.20.5 in /usr/local/lib/python3.10/dist-packages (from torch) (2.20.5)\n",
            "Requirement already satisfied: nvidia-nvtx-cu12==12.1.105 in /usr/local/lib/python3.10/dist-packages (from torch) (12.1.105)\n",
            "Requirement already satisfied: triton==2.3.0 in /usr/local/lib/python3.10/dist-packages (from torch) (2.3.0)\n",
            "Requirement already satisfied: nvidia-nvjitlink-cu12 in /usr/local/lib/python3.10/dist-packages (from nvidia-cusolver-cu12==11.4.5.107->torch) (12.5.82)\n",
            "Requirement already satisfied: click in /usr/local/lib/python3.10/dist-packages (from nltk) (8.1.7)\n",
            "Requirement already satisfied: joblib in /usr/local/lib/python3.10/dist-packages (from nltk) (1.4.2)\n",
            "Requirement already satisfied: MarkupSafe>=2.0 in /usr/local/lib/python3.10/dist-packages (from jinja2->torch) (2.1.5)\n",
            "Requirement already satisfied: charset-normalizer<4,>=2 in /usr/local/lib/python3.10/dist-packages (from requests->youtube_transcript_api) (3.3.2)\n",
            "Requirement already satisfied: idna<4,>=2.5 in /usr/local/lib/python3.10/dist-packages (from requests->youtube_transcript_api) (3.7)\n",
            "Requirement already satisfied: urllib3<3,>=1.21.1 in /usr/local/lib/python3.10/dist-packages (from requests->youtube_transcript_api) (2.0.7)\n",
            "Requirement already satisfied: certifi>=2017.4.17 in /usr/local/lib/python3.10/dist-packages (from requests->youtube_transcript_api) (2024.6.2)\n",
            "Requirement already satisfied: mpmath<1.4.0,>=1.1.0 in /usr/local/lib/python3.10/dist-packages (from sympy->torch) (1.3.0)\n"
          ]
        }
      ]
    },
    {
      "cell_type": "markdown",
      "source": [
        "Now, let's import the necessary libraries and download the required NLTK data:"
      ],
      "metadata": {
        "id": "5Zd9XRuJaxYU"
      }
    },
    {
      "cell_type": "code",
      "source": [
        "import torch\n",
        "import random\n",
        "from youtube_transcript_api import YouTubeTranscriptApi\n",
        "from transformers import pipeline\n",
        "import nltk\n",
        "nltk.download('punkt')\n",
        "nltk.download('averaged_perceptron_tagger')\n",
        "from nltk.tokenize import sent_tokenize, word_tokenize\n",
        "from nltk.tag import pos_tag"
      ],
      "metadata": {
        "id": "mCeYpPzBa2sj"
      },
      "execution_count": null,
      "outputs": []
    },
    {
      "cell_type": "markdown",
      "source": [
        "## Transcript Retrieval\n",
        "\n",
        "This function retrieves the transcript of a YouTube video, prioritizing English subtitles:"
      ],
      "metadata": {
        "id": "n4C41elma4zk"
      }
    },
    {
      "cell_type": "code",
      "source": [
        "def get_transcript(video_url):\n",
        "    \"\"\"\n",
        "    Retrieves the transcript of a YouTube video.\n",
        "\n",
        "    Args:\n",
        "    video_url (str): The URL of the YouTube video.\n",
        "\n",
        "    Returns:\n",
        "    str: The transcript text if available, None otherwise.\n",
        "    \"\"\"\n",
        "    try:\n",
        "        video_id = video_url.split(\"v=\")[1]\n",
        "        transcript_list = YouTubeTranscriptApi.list_transcripts(video_id)\n",
        "\n",
        "        # Try to get English transcript\n",
        "        try:\n",
        "            transcript = transcript_list.find_transcript(['en'])\n",
        "        except:\n",
        "            # If English is not available, get the first available transcript\n",
        "            try:\n",
        "                transcript = transcript_list.find_transcript(['en-US', 'en-GB'])\n",
        "            except:\n",
        "                # If still no transcript, get any available transcript\n",
        "                transcript = transcript_list[0]\n",
        "\n",
        "        return \" \".join([entry['text'] for entry in transcript.fetch()])\n",
        "    except Exception as e:\n",
        "        print(f\"An error occurred: {e}\")\n",
        "        return None"
      ],
      "metadata": {
        "id": "Akh2ERfma8L4"
      },
      "execution_count": 10,
      "outputs": []
    },
    {
      "cell_type": "markdown",
      "source": [
        "## Text Summarization\n",
        "\n",
        "This function uses a pre-trained T5 model to summarize the transcript:"
      ],
      "metadata": {
        "id": "9SZCfwCUbAxC"
      }
    },
    {
      "cell_type": "code",
      "source": [
        "def summarize_text(text, max_length=150):\n",
        "    \"\"\"\n",
        "    Summarizes the given text using a T5 model.\n",
        "\n",
        "    Args:\n",
        "    text (str): The text to summarize.\n",
        "    max_length (int): The maximum length of the summary.\n",
        "\n",
        "    Returns:\n",
        "    str: The summarized text.\n",
        "    \"\"\"\n",
        "    summarizer = pipeline(\"summarization\", model=\"t5-base\", tokenizer=\"t5-base\", framework=\"pt\")\n",
        "    summary = summarizer(text, max_length=max_length, min_length=30, do_sample=False)\n",
        "    return summary[0]['summary_text']"
      ],
      "metadata": {
        "id": "9baNPXUObDYR"
      },
      "execution_count": 11,
      "outputs": []
    },
    {
      "cell_type": "markdown",
      "source": [
        "## Multiple Choice Question Generation\n",
        "\n",
        "This function generates multiple-choice questions based on the summary:"
      ],
      "metadata": {
        "id": "pjWZzXkybJHQ"
      }
    },
    {
      "cell_type": "code",
      "source": [
        "def generate_mcq(text, num_questions=3):\n",
        "    \"\"\"\n",
        "    Generates multiple-choice questions from the given text.\n",
        "\n",
        "    Args:\n",
        "    text (str): The text to generate questions from.\n",
        "    num_questions (int): The number of questions to generate.\n",
        "\n",
        "    Returns:\n",
        "    list: A list of dictionaries containing questions, options, and correct answers.\n",
        "    \"\"\"\n",
        "    sentences = sent_tokenize(text)\n",
        "    questions = []\n",
        "\n",
        "    for sentence in sentences[:num_questions]:\n",
        "        words = word_tokenize(sentence)\n",
        "        tagged = pos_tag(words)\n",
        "\n",
        "        nouns = [word for word, pos in tagged if pos.startswith('NN')]\n",
        "        if not nouns:\n",
        "            continue\n",
        "\n",
        "        blank_word = random.choice(nouns)\n",
        "        question = sentence.replace(blank_word, \"________\")\n",
        "\n",
        "        options = [blank_word]\n",
        "        other_nouns = [word for word in nouns if word != blank_word]\n",
        "        options.extend(random.sample(other_nouns, min(2, len(other_nouns))))\n",
        "\n",
        "        while len(options) < 4:\n",
        "            random_word = random.choice([word for word, pos in tagged if pos.startswith('N') or pos.startswith('V') or pos.startswith('JJ')])\n",
        "            if random_word not in options:\n",
        "                options.append(random_word)\n",
        "\n",
        "        random.shuffle(options)\n",
        "\n",
        "        questions.append({\n",
        "            'question': question,\n",
        "            'options': options,\n",
        "            'correct_answer': blank_word\n",
        "        })\n",
        "\n",
        "    return questions"
      ],
      "metadata": {
        "id": "91IKYDugbMJE"
      },
      "execution_count": 12,
      "outputs": []
    },
    {
      "cell_type": "markdown",
      "source": [
        "## Video Processing and Quiz\n",
        "\n",
        "This function processes the video, generates a summary and quiz, and calculates the score:"
      ],
      "metadata": {
        "id": "I-gLdYqHbQ-y"
      }
    },
    {
      "cell_type": "code",
      "source": [
        "def process_video(video_url, num_questions):\n",
        "    \"\"\"\n",
        "    Processes a YouTube video: retrieves transcript, generates summary and quiz.\n",
        "\n",
        "    Args:\n",
        "    video_url (str): The URL of the YouTube video.\n",
        "    num_questions (int): The number of questions to generate.\n",
        "    \"\"\"\n",
        "    transcript = get_transcript(video_url)\n",
        "\n",
        "    while not transcript:\n",
        "        print(\"This video doesn't have subtitles or the subtitles couldn't be retrieved.\")\n",
        "        video_url = input(\"Please enter a different YouTube video URL with subtitles: \")\n",
        "        transcript = get_transcript(video_url)\n",
        "\n",
        "    if transcript:\n",
        "        summary = summarize_text(transcript)\n",
        "        mcqs = generate_mcq(summary, num_questions)\n",
        "\n",
        "        print(\"\\nSummary:\")\n",
        "        print(summary)\n",
        "        print(\"\\nMultiple Choice Questions:\")\n",
        "\n",
        "        correct_answers = 0\n",
        "        for i, mcq in enumerate(mcqs, 1):\n",
        "            print(f\"\\n{i}. {mcq['question']}\")\n",
        "            for j, option in enumerate(mcq['options'], 1):\n",
        "                print(f\"   {j}. {option}\")\n",
        "\n",
        "            while True:\n",
        "                user_answer = input(\"Enter your answer (1-4): \")\n",
        "                if user_answer in ['1', '2', '3', '4']:\n",
        "                    user_answer = int(user_answer)\n",
        "                    if mcq['options'][user_answer - 1] == mcq['correct_answer']:\n",
        "                        print(\"Correct!\")\n",
        "                        correct_answers += 1\n",
        "                    else:\n",
        "                        print(f\"Wrong. The correct answer is: {mcq['correct_answer']}\")\n",
        "                    break\n",
        "                else:\n",
        "                    print(\"Invalid input. Please enter a number between 1 and 4.\")\n",
        "\n",
        "        score_percentage = (correct_answers / num_questions) * 100\n",
        "        print(f\"\\nYour score: {correct_answers}/{num_questions}\")\n",
        "        print(f\"Percentage: {score_percentage:.2f}%\")\n",
        "    else:\n",
        "        print(\"Failed to process the video.\")"
      ],
      "metadata": {
        "id": "gIJ9jjqTbTmM"
      },
      "execution_count": 13,
      "outputs": []
    },
    {
      "cell_type": "markdown",
      "source": [
        "## Main Function\n",
        "\n",
        "This is the main function that runs the program:"
      ],
      "metadata": {
        "id": "TAOGEaChbYYh"
      }
    },
    {
      "cell_type": "code",
      "source": [
        "def main():\n",
        "    \"\"\"\n",
        "    Main function to run the program.\n",
        "    \"\"\"\n",
        "    video_url = input(\"Enter a YouTube video URL: \")\n",
        "    num_questions = 3  # Fixed number of questions\n",
        "\n",
        "    process_video(video_url, num_questions)\n",
        "\n",
        "if __name__ == \"__main__\":\n",
        "    main()"
      ],
      "metadata": {
        "colab": {
          "base_uri": "https://localhost:8080/"
        },
        "id": "94fKc7fpbbhK",
        "outputId": "418fb669-9663-4612-85ae-238b435cfdb4"
      },
      "execution_count": 14,
      "outputs": [
        {
          "output_type": "stream",
          "name": "stdout",
          "text": [
            "Enter a YouTube video URL: https://www.youtube.com/watch?v=B6mi1-YoRT4\n",
            "\n",
            "Summary:\n",
            "force is a push or pull upon an object, resulting from its interaction with another object . there are forces acting on a ball when it is stationary, not moving at all . if there is no force acting on the ball, it will continue to move at the same velocity .\n",
            "\n",
            "Multiple Choice Questions:\n",
            "\n",
            "1. force is a push or pull upon an object, resulting from its ________ with another object .\n",
            "   1. object\n",
            "   2. is\n",
            "   3. push\n",
            "   4. interaction\n",
            "Enter your answer (1-4): 2\n",
            "Wrong. The correct answer is: interaction\n",
            "\n",
            "2. there are ________ acting on a ball when it is stationary, not moving at all .\n",
            "   1. ball\n",
            "   2. is\n",
            "   3. moving\n",
            "   4. forces\n",
            "Enter your answer (1-4): 3\n",
            "Wrong. The correct answer is: forces\n",
            "\n",
            "3. if there is no ________ acting on the ball, it will continue to move at the same velocity .\n",
            "   1. velocity\n",
            "   2. ball\n",
            "   3. force\n",
            "   4. is\n",
            "Enter your answer (1-4): 1\n",
            "Wrong. The correct answer is: force\n",
            "\n",
            "Your score: 0/3\n",
            "Percentage: 0.00%\n"
          ]
        }
      ]
    },
    {
      "cell_type": "markdown",
      "source": [
        "## Run the Program\n",
        "\n",
        "To run the program, execute the following cell:"
      ],
      "metadata": {
        "id": "IfPPoc4Pb1C3"
      }
    },
    {
      "cell_type": "code",
      "source": [
        "main()"
      ],
      "metadata": {
        "colab": {
          "base_uri": "https://localhost:8080/"
        },
        "id": "ITjlBDQtb2Qn",
        "outputId": "67e3a8e6-66e2-4d28-d63e-6b8e775a4d4b"
      },
      "execution_count": 15,
      "outputs": [
        {
          "output_type": "stream",
          "name": "stdout",
          "text": [
            "Enter a YouTube video URL: https://www.youtube.com/watch?v=B6mi1-YoRT4\n",
            "\n",
            "Summary:\n",
            "force is a push or pull upon an object, resulting from its interaction with another object . there are forces acting on a ball when it is stationary, not moving at all . if there is no force acting on the ball, it will continue to move at the same velocity .\n",
            "\n",
            "Multiple Choice Questions:\n",
            "\n",
            "1. force is a push or pull upon an object, resulting from its ________ with another object .\n",
            "   1. push\n",
            "   2. is\n",
            "   3. interaction\n",
            "   4. object\n",
            "Enter your answer (1-4): 3\n",
            "Correct!\n",
            "\n",
            "2. there are forces acting on a ________ when it is stationary, not moving at all .\n",
            "   1. ball\n",
            "   2. forces\n",
            "   3. is\n",
            "   4. acting\n",
            "Enter your answer (1-4): 1\n",
            "Correct!\n",
            "\n",
            "3. if there is no ________ acting on the ball, it will continue to move at the same velocity .\n",
            "   1. force\n",
            "   2. acting\n",
            "   3. velocity\n",
            "   4. ball\n",
            "Enter your answer (1-4): 1\n",
            "Correct!\n",
            "\n",
            "Your score: 3/3\n",
            "Percentage: 100.00%\n"
          ]
        }
      ]
    },
    {
      "cell_type": "markdown",
      "source": [
        "This program will:\n",
        "1. Ask for a YouTube video URL\n",
        "2. Retrieve the video's transcript\n",
        "3. Generate a summary of the transcript\n",
        "4. Create 3 multiple-choice questions based on the summary\n",
        "5. Allow the user to answer these questions\n",
        "6. Provide a score at the end\n",
        "\n",
        "Note: Make sure the YouTube video you choose has subtitles available for the best results."
      ],
      "metadata": {
        "id": "W9cMkTJecPGY"
      }
    }
  ]
}