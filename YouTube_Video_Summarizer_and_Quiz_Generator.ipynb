{
  "nbformat": 4,
  "nbformat_minor": 0,
  "metadata": {
    "colab": {
      "provenance": [],
      "authorship_tag": "ABX9TyPhIsYn8wHGz2aVq/ZQyX2R",
      "include_colab_link": true
    },
    "kernelspec": {
      "name": "python3",
      "display_name": "Python 3"
    },
    "language_info": {
      "name": "python"
    }
  },
  "cells": [
    {
      "cell_type": "markdown",
      "metadata": {
        "id": "view-in-github",
        "colab_type": "text"
      },
      "source": [
        "<a href=\"https://colab.research.google.com/github/RishabhGithub7348/YouTube-Video-Summarizer-and-Quiz-Generator/blob/main/YouTube_Video_Summarizer_and_Quiz_Generator.ipynb\" target=\"_parent\"><img src=\"https://colab.research.google.com/assets/colab-badge.svg\" alt=\"Open In Colab\"/></a>"
      ]
    },
    {
      "cell_type": "code",
      "execution_count": null,
      "metadata": {
        "id": "G7RkXHhrLnHC"
      },
      "outputs": [],
      "source": [
        "!chmod 400 ./monkey-science-gpu.pem\n",
        "!ssh -o \"StrictHostKeyChecking=no\" -i \"monkey-science-gpu.pem\" ubuntu@ec2-13-235-135-35.ap-south-1.compute.amazonaws.com"
      ]
    },
    {
      "cell_type": "code",
      "source": [
        "!pip install youtube_transcript_api transformers torch nltk\n"
      ],
      "metadata": {
        "id": "JpBYSUjiWBYH"
      },
      "execution_count": null,
      "outputs": []
    },
    {
      "cell_type": "markdown",
      "source": [
        "# YouTube Video Summarizer and Quiz Generator\n",
        "\n",
        "This project creates a summary and a quiz based on the transcript of a YouTube video.\n",
        "\n",
        "## Setup\n",
        "\n",
        "First, let's install the required libraries:\n"
      ],
      "metadata": {
        "id": "jbrxDaqxabLD"
      }
    },
    {
      "cell_type": "code",
      "source": [
        "!pip install youtube_transcript_api transformers torch nltk"
      ],
      "metadata": {
        "id": "vSRt9Xp_apux"
      },
      "execution_count": null,
      "outputs": []
    },
    {
      "cell_type": "markdown",
      "source": [
        "Now, let's import the necessary libraries and download the required NLTK data:"
      ],
      "metadata": {
        "id": "5Zd9XRuJaxYU"
      }
    },
    {
      "cell_type": "code",
      "source": [
        "import torch\n",
        "import random\n",
        "from youtube_transcript_api import YouTubeTranscriptApi\n",
        "from transformers import pipeline\n",
        "import nltk\n",
        "nltk.download('punkt')\n",
        "nltk.download('averaged_perceptron_tagger')\n",
        "from nltk.tokenize import sent_tokenize, word_tokenize\n",
        "from nltk.tag import pos_tag"
      ],
      "metadata": {
        "id": "mCeYpPzBa2sj"
      },
      "execution_count": null,
      "outputs": []
    },
    {
      "cell_type": "markdown",
      "source": [
        "## Transcript Retrieval\n",
        "\n",
        "This function retrieves the transcript of a YouTube video, prioritizing English subtitles:"
      ],
      "metadata": {
        "id": "n4C41elma4zk"
      }
    },
    {
      "cell_type": "code",
      "source": [
        "def get_transcript(video_url):\n",
        "    \"\"\"\n",
        "    Retrieves the transcript of a YouTube video.\n",
        "\n",
        "    Args:\n",
        "    video_url (str): The URL of the YouTube video.\n",
        "\n",
        "    Returns:\n",
        "    str: The transcript text if available, None otherwise.\n",
        "    \"\"\"\n",
        "    try:\n",
        "        video_id = video_url.split(\"v=\")[1]\n",
        "        transcript_list = YouTubeTranscriptApi.list_transcripts(video_id)\n",
        "\n",
        "        # Try to get English transcript\n",
        "        try:\n",
        "            transcript = transcript_list.find_transcript(['en'])\n",
        "        except:\n",
        "            # If English is not available, get the first available transcript\n",
        "            try:\n",
        "                transcript = transcript_list.find_transcript(['en-US', 'en-GB'])\n",
        "            except:\n",
        "                # If still no transcript, get any available transcript\n",
        "                transcript = transcript_list[0]\n",
        "\n",
        "        return \" \".join([entry['text'] for entry in transcript.fetch()])\n",
        "    except Exception as e:\n",
        "        print(f\"An error occurred: {e}\")\n",
        "        return None"
      ],
      "metadata": {
        "id": "Akh2ERfma8L4"
      },
      "execution_count": null,
      "outputs": []
    },
    {
      "cell_type": "markdown",
      "source": [
        "## Text Summarization\n",
        "\n",
        "This function uses a pre-trained T5 model to summarize the transcript:"
      ],
      "metadata": {
        "id": "9SZCfwCUbAxC"
      }
    },
    {
      "cell_type": "code",
      "source": [
        "def summarize_text(text, max_length=150):\n",
        "    \"\"\"\n",
        "    Summarizes the given text using a T5 model.\n",
        "\n",
        "    Args:\n",
        "    text (str): The text to summarize.\n",
        "    max_length (int): The maximum length of the summary.\n",
        "\n",
        "    Returns:\n",
        "    str: The summarized text.\n",
        "    \"\"\"\n",
        "    summarizer = pipeline(\"summarization\", model=\"t5-base\", tokenizer=\"t5-base\", framework=\"pt\")\n",
        "    summary = summarizer(text, max_length=max_length, min_length=30, do_sample=False)\n",
        "    return summary[0]['summary_text']"
      ],
      "metadata": {
        "id": "9baNPXUObDYR"
      },
      "execution_count": null,
      "outputs": []
    },
    {
      "cell_type": "markdown",
      "source": [
        "## Multiple Choice Question Generation\n",
        "\n",
        "This function generates multiple-choice questions based on the summary:"
      ],
      "metadata": {
        "id": "pjWZzXkybJHQ"
      }
    },
    {
      "cell_type": "code",
      "source": [
        "def generate_mcq(text, num_questions=3):\n",
        "    \"\"\"\n",
        "    Generates multiple-choice questions from the given text.\n",
        "\n",
        "    Args:\n",
        "    text (str): The text to generate questions from.\n",
        "    num_questions (int): The number of questions to generate.\n",
        "\n",
        "    Returns:\n",
        "    list: A list of dictionaries containing questions, options, and correct answers.\n",
        "    \"\"\"\n",
        "    sentences = sent_tokenize(text)\n",
        "    questions = []\n",
        "\n",
        "    for sentence in sentences[:num_questions]:\n",
        "        words = word_tokenize(sentence)\n",
        "        tagged = pos_tag(words)\n",
        "\n",
        "        nouns = [word for word, pos in tagged if pos.startswith('NN')]\n",
        "        if not nouns:\n",
        "            continue\n",
        "\n",
        "        blank_word = random.choice(nouns)\n",
        "        question = sentence.replace(blank_word, \"________\")\n",
        "\n",
        "        options = [blank_word]\n",
        "        other_nouns = [word for word in nouns if word != blank_word]\n",
        "        options.extend(random.sample(other_nouns, min(2, len(other_nouns))))\n",
        "\n",
        "        while len(options) < 4:\n",
        "            random_word = random.choice([word for word, pos in tagged if pos.startswith('N') or pos.startswith('V') or pos.startswith('JJ')])\n",
        "            if random_word not in options:\n",
        "                options.append(random_word)\n",
        "\n",
        "        random.shuffle(options)\n",
        "\n",
        "        questions.append({\n",
        "            'question': question,\n",
        "            'options': options,\n",
        "            'correct_answer': blank_word\n",
        "        })\n",
        "\n",
        "    return questions"
      ],
      "metadata": {
        "id": "91IKYDugbMJE"
      },
      "execution_count": null,
      "outputs": []
    },
    {
      "cell_type": "markdown",
      "source": [
        "## Video Processing and Quiz\n",
        "\n",
        "This function processes the video, generates a summary and quiz, and calculates the score:"
      ],
      "metadata": {
        "id": "I-gLdYqHbQ-y"
      }
    },
    {
      "cell_type": "code",
      "source": [
        "def process_video(video_url, num_questions):\n",
        "    \"\"\"\n",
        "    Processes a YouTube video: retrieves transcript, generates summary and quiz.\n",
        "\n",
        "    Args:\n",
        "    video_url (str): The URL of the YouTube video.\n",
        "    num_questions (int): The number of questions to generate.\n",
        "    \"\"\"\n",
        "    transcript = get_transcript(video_url)\n",
        "\n",
        "    while not transcript:\n",
        "        print(\"This video doesn't have subtitles or the subtitles couldn't be retrieved.\")\n",
        "        video_url = input(\"Please enter a different YouTube video URL with subtitles: \")\n",
        "        transcript = get_transcript(video_url)\n",
        "\n",
        "    if transcript:\n",
        "        summary = summarize_text(transcript)\n",
        "        mcqs = generate_mcq(summary, num_questions)\n",
        "\n",
        "        print(\"\\nSummary:\")\n",
        "        print(summary)\n",
        "        print(\"\\nMultiple Choice Questions:\")\n",
        "\n",
        "        correct_answers = 0\n",
        "        for i, mcq in enumerate(mcqs, 1):\n",
        "            print(f\"\\n{i}. {mcq['question']}\")\n",
        "            for j, option in enumerate(mcq['options'], 1):\n",
        "                print(f\"   {j}. {option}\")\n",
        "\n",
        "            while True:\n",
        "                user_answer = input(\"Enter your answer (1-4): \")\n",
        "                if user_answer in ['1', '2', '3', '4']:\n",
        "                    user_answer = int(user_answer)\n",
        "                    if mcq['options'][user_answer - 1] == mcq['correct_answer']:\n",
        "                        print(\"Correct!\")\n",
        "                        correct_answers += 1\n",
        "                    else:\n",
        "                        print(f\"Wrong. The correct answer is: {mcq['correct_answer']}\")\n",
        "                    break\n",
        "                else:\n",
        "                    print(\"Invalid input. Please enter a number between 1 and 4.\")\n",
        "\n",
        "        score_percentage = (correct_answers / num_questions) * 100\n",
        "        print(f\"\\nYour score: {correct_answers}/{num_questions}\")\n",
        "        print(f\"Percentage: {score_percentage:.2f}%\")\n",
        "    else:\n",
        "        print(\"Failed to process the video.\")"
      ],
      "metadata": {
        "id": "gIJ9jjqTbTmM"
      },
      "execution_count": null,
      "outputs": []
    },
    {
      "cell_type": "markdown",
      "source": [
        "## Main Function\n",
        "\n",
        "This is the main function that runs the program:"
      ],
      "metadata": {
        "id": "TAOGEaChbYYh"
      }
    },
    {
      "cell_type": "code",
      "source": [
        "def main():\n",
        "    \"\"\"\n",
        "    Main function to run the program.\n",
        "    \"\"\"\n",
        "    video_url = input(\"Enter a YouTube video URL: \")\n",
        "    num_questions = 3  # Fixed number of questions\n",
        "\n",
        "    process_video(video_url, num_questions)\n",
        "\n",
        "if __name__ == \"__main__\":\n",
        "    main()"
      ],
      "metadata": {
        "id": "94fKc7fpbbhK"
      },
      "execution_count": null,
      "outputs": []
    },
    {
      "cell_type": "markdown",
      "source": [
        "## Run the Program\n",
        "\n",
        "To run the program, execute the following cell:"
      ],
      "metadata": {
        "id": "IfPPoc4Pb1C3"
      }
    },
    {
      "cell_type": "code",
      "source": [
        "main()"
      ],
      "metadata": {
        "colab": {
          "base_uri": "https://localhost:8080/"
        },
        "id": "ITjlBDQtb2Qn",
        "outputId": "67e3a8e6-66e2-4d28-d63e-6b8e775a4d4b"
      },
      "execution_count": null,
      "outputs": [
        {
          "output_type": "stream",
          "name": "stdout",
          "text": [
            "Enter a YouTube video URL: https://www.youtube.com/watch?v=B6mi1-YoRT4\n",
            "\n",
            "Summary:\n",
            "force is a push or pull upon an object, resulting from its interaction with another object . there are forces acting on a ball when it is stationary, not moving at all . if there is no force acting on the ball, it will continue to move at the same velocity .\n",
            "\n",
            "Multiple Choice Questions:\n",
            "\n",
            "1. force is a push or pull upon an object, resulting from its ________ with another object .\n",
            "   1. push\n",
            "   2. is\n",
            "   3. interaction\n",
            "   4. object\n",
            "Enter your answer (1-4): 3\n",
            "Correct!\n",
            "\n",
            "2. there are forces acting on a ________ when it is stationary, not moving at all .\n",
            "   1. ball\n",
            "   2. forces\n",
            "   3. is\n",
            "   4. acting\n",
            "Enter your answer (1-4): 1\n",
            "Correct!\n",
            "\n",
            "3. if there is no ________ acting on the ball, it will continue to move at the same velocity .\n",
            "   1. force\n",
            "   2. acting\n",
            "   3. velocity\n",
            "   4. ball\n",
            "Enter your answer (1-4): 1\n",
            "Correct!\n",
            "\n",
            "Your score: 3/3\n",
            "Percentage: 100.00%\n"
          ]
        }
      ]
    },
    {
      "cell_type": "markdown",
      "source": [
        "This program will:\n",
        "1. Ask for a YouTube video URL\n",
        "2. Retrieve the video's transcript\n",
        "3. Generate a summary of the transcript\n",
        "4. Create 3 multiple-choice questions based on the summary\n",
        "5. Allow the user to answer these questions\n",
        "6. Provide a score at the end\n",
        "\n",
        "Note: Make sure the YouTube video you choose has subtitles available for the best results."
      ],
      "metadata": {
        "id": "W9cMkTJecPGY"
      }
    }
  ]
}